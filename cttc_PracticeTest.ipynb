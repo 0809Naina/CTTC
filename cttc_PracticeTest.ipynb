{
 "cells": [
  {
   "cell_type": "markdown",
   "id": "714180cf",
   "metadata": {},
   "source": [
    "# 1.WPP to filter a list of integrs using lambda function \n",
    "Eg- Original list of integers:\n",
    "    [1,2,3,4,5,6,7,8,9,10]\n",
    "    Even numbers from the said list :[2,4,6,8,10]\n",
    "    Odd numbers from the said list:[1,3,5,7,9]"
   ]
  },
  {
   "cell_type": "code",
   "execution_count": 12,
   "id": "b4ad4c55",
   "metadata": {},
   "outputs": [
    {
     "name": "stdout",
     "output_type": "stream",
     "text": [
      "Original list of integers: [1, 2, 3, 4, 5, 6, 7, 8, 9, 10]\n",
      "Even numbers: [2, 4, 6, 8, 10]\n",
      "Odd numbers: [1, 3, 5, 7, 9]\n"
     ]
    }
   ],
   "source": [
    "original_list = [1, 2, 3, 4, 5, 6, 7, 8, 9, 10]\n",
    "\n",
    "even_numbers = list(filter(lambda x: x % 2 == 0, original_list))\n",
    "odd_numbers = list(filter(lambda x: x % 2 != 0, original_list))\n",
    "\n",
    "print(\"Original list of integers:\", original_list)\n",
    "print(\"Even numbers:\", even_numbers)\n",
    "print(\"Odd numbers:\", odd_numbers)"
   ]
  },
  {
   "cell_type": "markdown",
   "id": "e6127265",
   "metadata": {},
   "source": [
    "# 2.Write a python program to count the even and odd numbers in a given array of integers  "
   ]
  },
  {
   "cell_type": "code",
   "execution_count": 8,
   "id": "29e6645f",
   "metadata": {},
   "outputs": [
    {
     "name": "stdout",
     "output_type": "stream",
     "text": [
      "Original array: [1, 2, 3, 4, 5, 6, 7, 8, 9, 10, 18, 56, 89, 4, 5, 6, 7, 7]\n",
      "Even numbers count: 9\n",
      "Odd numbers count: 9\n"
     ]
    }
   ],
   "source": [
    "def count_even_odd_numbers(arr):\n",
    "    even_count = 0\n",
    "    odd_count = 0\n",
    "\n",
    "    for num in arr:\n",
    "        if num % 2 == 0:\n",
    "            even_count += 1\n",
    "        else:\n",
    "            odd_count += 1\n",
    "\n",
    "    return even_count, odd_count\n",
    "\n",
    "numbers = [1, 2, 3, 4, 5, 6, 7, 8, 9, 10,18,56,89,4,5,6,7,7]\n",
    "even_count, odd_count = count_even_odd_numbers(numbers)\n",
    "\n",
    "print(\"Original array:\", numbers)\n",
    "print(\"Even numbers count:\", even_count)\n",
    "print(\"Odd numbers count:\", odd_count)\n"
   ]
  },
  {
   "cell_type": "markdown",
   "id": "e8827f43",
   "metadata": {},
   "source": [
    "# 3.Write a Python program to add two given lists using map and lambda."
   ]
  },
  {
   "cell_type": "code",
   "execution_count": 4,
   "id": "afbef948",
   "metadata": {},
   "outputs": [
    {
     "name": "stdout",
     "output_type": "stream",
     "text": [
      "List 1: [60, 70, 80, 90, 100]\n",
      "List 2: [10, 20, 30, 40, 50]\n",
      "Result: [70, 90, 110, 130, 150]\n"
     ]
    }
   ],
   "source": [
    "list1 = [60,70,80,90,100]\n",
    "list2 = [10, 20, 30, 40, 50]\n",
    "\n",
    "result = list(map(lambda x, y: x + y, list1, list2))\n",
    "\n",
    "print(\"List 1:\", list1)\n",
    "print(\"List 2:\", list2)\n",
    "print(\"Result:\", result)"
   ]
  },
  {
   "cell_type": "markdown",
   "id": "667ddeb0",
   "metadata": {},
   "source": [
    "# 4.Add 7000 after 6000 in the below list [10,20[300,400,[5000,6000],500]30,40]"
   ]
  },
  {
   "cell_type": "code",
   "execution_count": 7,
   "id": "2c08e958",
   "metadata": {},
   "outputs": [
    {
     "name": "stdout",
     "output_type": "stream",
     "text": [
      "Modified list: [10, 20, [300, 400, [5000, 6000, 7000], 500], 30, 40]\n"
     ]
    }
   ],
   "source": [
    "in_list = [10, 20, [300, 400, [5000, 6000], 500], 30, 40]\n",
    "\n",
    "def add_7000(lst):\n",
    "    for i in range(len(lst)):\n",
    "        if isinstance(lst[i], list):\n",
    "            add_7000(lst[i])\n",
    "        elif lst[i] == 6000:\n",
    "            lst.insert(i + 1, 7000)\n",
    "\n",
    "add_7000(in_list)\n",
    "\n",
    "print(\"Modified list:\", in_list)"
   ]
  },
  {
   "cell_type": "markdown",
   "id": "fe83ba84",
   "metadata": {},
   "source": [
    "# 5.Write a python program to find the palindromes in the given list of strings using lambda.\n",
    "['php','w3r','Python','abcd','Java','aaa']"
   ]
  },
  {
   "cell_type": "code",
   "execution_count": 6,
   "id": "490daed7",
   "metadata": {},
   "outputs": [
    {
     "name": "stdout",
     "output_type": "stream",
     "text": [
      "Original list of strings: ['php', 'w3r', 'Python', 'abcd', 'java', 'aaa']\n",
      "Palindromes: ['php', 'aaa']\n"
     ]
    }
   ],
   "source": [
    "the_list = ['php', 'w3r', 'Python', 'abcd', 'java', 'aaa']\n",
    "\n",
    "palindromes = list(filter(lambda x: x == x[::-1], the_list ))\n",
    "\n",
    "print(\"Original list of strings:\", the_list)\n",
    "print(\"Palindromes:\", palindromes)"
   ]
  },
  {
   "cell_type": "code",
   "execution_count": 6,
   "id": "5dee078d",
   "metadata": {},
   "outputs": [
    {
     "name": "stdout",
     "output_type": "stream",
     "text": [
      "Enter the string:- php\n",
      "It is a pallindrome \n"
     ]
    }
   ],
   "source": [
    "x= input(\"Enter the string:- \")\n",
    "rev =str(x)[::-1]\n",
    "if x==rev:\n",
    "    print(\"It is a pallindrome \")\n",
    "else:\n",
    "    print(\"It is not a pallindrome \")"
   ]
  },
  {
   "cell_type": "code",
   "execution_count": 7,
   "id": "f549d750",
   "metadata": {},
   "outputs": [
    {
     "name": "stdout",
     "output_type": "stream",
     "text": [
      "Enter the string:- w3r\n",
      "It is not a pallindrome \n"
     ]
    }
   ],
   "source": [
    "x= input(\"Enter the string:- \")\n",
    "rev =str(x)[::-1]\n",
    "if x==rev:\n",
    "    print(\"It is a pallindrome \")\n",
    "else:\n",
    "    print(\"It is not a pallindrome \")"
   ]
  },
  {
   "cell_type": "code",
   "execution_count": 8,
   "id": "667923b3",
   "metadata": {},
   "outputs": [
    {
     "name": "stdout",
     "output_type": "stream",
     "text": [
      "Enter the string:- Python\n",
      "It is not a pallindrome \n"
     ]
    }
   ],
   "source": [
    "x= input(\"Enter the string:- \")\n",
    "rev =str(x)[::-1]\n",
    "if x==rev:\n",
    "    print(\"It is a pallindrome \")\n",
    "else:\n",
    "    print(\"It is not a pallindrome \")"
   ]
  },
  {
   "cell_type": "code",
   "execution_count": 9,
   "id": "e80ddca4",
   "metadata": {},
   "outputs": [
    {
     "name": "stdout",
     "output_type": "stream",
     "text": [
      "Enter the string:- abcd\n",
      "It is not a pallindrome \n"
     ]
    }
   ],
   "source": [
    "x= input(\"Enter the string:- \")\n",
    "rev =str(x)[::-1]\n",
    "if x==rev:\n",
    "    print(\"It is a pallindrome \")\n",
    "else:\n",
    "    print(\"It is not a pallindrome \")"
   ]
  },
  {
   "cell_type": "code",
   "execution_count": 10,
   "id": "ea5985e0",
   "metadata": {},
   "outputs": [
    {
     "name": "stdout",
     "output_type": "stream",
     "text": [
      "Enter the string:- Java\n",
      "It is not a pallindrome \n"
     ]
    }
   ],
   "source": [
    "x= input(\"Enter the string:- \")\n",
    "rev =str(x)[::-1]\n",
    "if x==rev:\n",
    "    print(\"It is a pallindrome \")\n",
    "else:\n",
    "    print(\"It is not a pallindrome \")"
   ]
  },
  {
   "cell_type": "code",
   "execution_count": 11,
   "id": "e1cfa685",
   "metadata": {},
   "outputs": [
    {
     "name": "stdout",
     "output_type": "stream",
     "text": [
      "Enter the string:- aaa\n",
      "It is a pallindrome \n"
     ]
    }
   ],
   "source": [
    "x= input(\"Enter the string:- \")\n",
    "rev =str(x)[::-1]\n",
    "if x==rev:\n",
    "    print(\"It is a pallindrome \")\n",
    "else:\n",
    "    print(\"It is not a pallindrome \")"
   ]
  },
  {
   "cell_type": "markdown",
   "id": "ecea91a2",
   "metadata": {},
   "source": [
    "# 6.WPP to caluclate the sum of the +ve and -ve numbers of a given list of numbers using the lambda function.\n",
    "[2,4,-6,-9,11,-12,14,-5,17]"
   ]
  },
  {
   "cell_type": "raw",
   "id": "48d6d7c7",
   "metadata": {},
   "source": [
    "7.print the following using loop\n",
    "*\n",
    "* *\n",
    "* * *\n",
    "* * * *\n",
    "* * * * *\n",
    "* * * * *\n",
    "* * * *\n",
    "* * *\n",
    "* *\n",
    "*\n"
   ]
  },
  {
   "cell_type": "code",
   "execution_count": 5,
   "id": "40eb5d4a",
   "metadata": {},
   "outputs": [
    {
     "name": "stdout",
     "output_type": "stream",
     "text": [
      "Enter the row:- 5\n",
      "* \n",
      "* * \n",
      "* * * \n",
      "* * * * \n",
      "* * * * * \n",
      "* * * * * \n",
      "* * * * \n",
      "* * * \n",
      "* * \n",
      "* \n"
     ]
    }
   ],
   "source": [
    "n= int(input(\"Enter the row:- \"))\n",
    "for i in range(1,n+1):\n",
    "    print(\"* \" *i)\n",
    "for i in range(n,0,-1):\n",
    "    print(\"* \" *i)\n"
   ]
  },
  {
   "cell_type": "markdown",
   "id": "8712c0f0",
   "metadata": {},
   "source": [
    "# 8.Write a python program to check the validity of password inputs by users validation:\n",
    "1.atleast 1 letter between [a-z] and 1 letter between [A-Z]\n",
    "2.Atleast 1 number between 0 to 9\n",
    "3.Atleast 1 character fron[$#@ ]\n",
    "4.Minimum length 6 characters."
   ]
  },
  {
   "cell_type": "code",
   "execution_count": null,
   "id": "1cd56b48",
   "metadata": {},
   "outputs": [],
   "source": []
  }
 ],
 "metadata": {
  "kernelspec": {
   "display_name": "Python 3 (ipykernel)",
   "language": "python",
   "name": "python3"
  },
  "language_info": {
   "codemirror_mode": {
    "name": "ipython",
    "version": 3
   },
   "file_extension": ".py",
   "mimetype": "text/x-python",
   "name": "python",
   "nbconvert_exporter": "python",
   "pygments_lexer": "ipython3",
   "version": "3.10.9"
  }
 },
 "nbformat": 4,
 "nbformat_minor": 5
}
